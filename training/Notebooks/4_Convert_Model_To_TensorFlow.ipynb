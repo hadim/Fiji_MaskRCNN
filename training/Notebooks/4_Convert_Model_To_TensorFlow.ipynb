{
 "cells": [
  {
   "cell_type": "markdown",
   "metadata": {},
   "source": [
    "Convert the Keras model and weights to a TensorFlow SavedModel '.pb' file."
   ]
  },
  {
   "cell_type": "code",
   "execution_count": 23,
   "metadata": {},
   "outputs": [],
   "source": [
    "%matplotlib inline\n",
    "\n",
    "from pathlib import Path\n",
    "import zipfile\n",
    "import tempfile\n",
    "\n",
    "import tensorflow as tf\n",
    "\n",
    "import sys\n",
    "sys.path.append(\"..\")\n",
    "import mask_lib as mlib\n",
    "\n",
    "root_dir = Path(\"/home/hadim/.data/Neural_Network/Mask-RCNN/Microtubules/\")\n",
    "\n",
    "model_dir = root_dir / \"logs\"\n",
    "model_dir.mkdir(parents=True, exist_ok=True)\n",
    "\n",
    "saved_model_dir = root_dir / \"saved_model\"\n",
    "saved_model_dir.mkdir(parents=True, exist_ok=True)\n",
    "\n",
    "model_name = \"coco_512_new\""
   ]
  },
  {
   "cell_type": "markdown",
   "metadata": {},
   "source": [
    "# Import Model "
   ]
  },
  {
   "cell_type": "code",
   "execution_count": 24,
   "metadata": {},
   "outputs": [],
   "source": [
    "config = mlib.MicrotubuleInferenceConfig()\n",
    "config.set_images_per_gpu(1)\n",
    "\n",
    "model = mlib.load_model(model_dir, config, mode=\"inference\")\n",
    "mlib.load_weights(model, init_with=\"last\", model_name=model_name)"
   ]
  },
  {
   "cell_type": "markdown",
   "metadata": {},
   "source": [
    "# Export model to Tensoflow .pb file"
   ]
  },
  {
   "cell_type": "code",
   "execution_count": 27,
   "metadata": {},
   "outputs": [],
   "source": [
    "tf_model_path = saved_model_dir / f\"tf_model_{model_name}.pb\"\n",
    "zip_tf_model_path = saved_model_dir / f\"{tf_model_path.stem}.zip\""
   ]
  },
  {
   "cell_type": "code",
   "execution_count": 33,
   "metadata": {},
   "outputs": [
    {
     "name": "stdout",
     "output_type": "stream",
     "text": [
      "INFO:tensorflow:Froze 384 variables.\n",
      "Converted 384 variables to const ops.\n"
     ]
    },
    {
     "data": {
      "text/plain": [
       "PosixPath('/home/hadim/.data/Neural_Network/Mask-RCNN/Microtubules/saved_model/tf_model_coco_512_new.pb')"
      ]
     },
     "execution_count": 33,
     "metadata": {},
     "output_type": "execute_result"
    }
   ],
   "source": [
    "mlib.export_to_tensorflow(model, tf_model_path, tf_model_zip_path=zip_tf_model_path)\n",
    "tf_model_path"
   ]
  },
  {
   "cell_type": "markdown",
   "metadata": {},
   "source": [
    "# Add pre- and post-processing models to the ZIP file\n",
    "\n",
    "Both models have been created with this notebook: [`5_Build_Processing_Graph.ipynb`](5_Build_Processing_Graph.ipynb)"
   ]
  },
  {
   "cell_type": "code",
   "execution_count": 34,
   "metadata": {},
   "outputs": [],
   "source": [
    "preprocessing_model_path = saved_model_dir / \"preprocessing_graph.pb\"\n",
    "postprocessing_model_path = saved_model_dir / \"postprocessing_graph.pb\"\n",
    "\n",
    "with zipfile.ZipFile(zip_tf_model_path, \"a\") as z:\n",
    "    z.write(preprocessing_model_path, arcname=preprocessing_model_path.name)\n",
    "    z.write(postprocessing_model_path, arcname=postprocessing_model_path.name)"
   ]
  },
  {
   "cell_type": "markdown",
   "metadata": {},
   "source": [
    "# Add model name and labels file to the ZIP file"
   ]
  },
  {
   "cell_type": "code",
   "execution_count": 35,
   "metadata": {},
   "outputs": [],
   "source": [
    "_, temp_path = tempfile.mkstemp()\n",
    "\n",
    "with open(temp_path, \"w\") as f:\n",
    "    # The first element is the model name\n",
    "    f.write(config.NAME + \"\\n\")\n",
    "    f.write(\"\\n\".join(config.CLASS_NAMES))\n",
    "    \n",
    "with zipfile.ZipFile(zip_tf_model_path, \"a\") as z:\n",
    "    z.write(temp_path, arcname=\"labels.txt\")"
   ]
  }
 ],
 "metadata": {
  "kernelspec": {
   "display_name": "Python [conda env:nn]",
   "language": "python",
   "name": "conda-env-nn-py"
  },
  "language_info": {
   "codemirror_mode": {
    "name": "ipython",
    "version": 3
   },
   "file_extension": ".py",
   "mimetype": "text/x-python",
   "name": "python",
   "nbconvert_exporter": "python",
   "pygments_lexer": "ipython3",
   "version": "3.6.5"
  }
 },
 "nbformat": 4,
 "nbformat_minor": 2
}
