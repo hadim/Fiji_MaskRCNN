{
 "cells": [
  {
   "cell_type": "markdown",
   "metadata": {},
   "source": [
    "Convert the Keras model and weights to a TensorFlow SavedModel '.pb' file."
   ]
  },
  {
   "cell_type": "code",
   "execution_count": 1,
   "metadata": {},
   "outputs": [
    {
     "name": "stderr",
     "output_type": "stream",
     "text": [
      "/home/hadim/local/conda/envs/nn/lib/python3.6/site-packages/h5py/__init__.py:36: FutureWarning: Conversion of the second argument of issubdtype from `float` to `np.floating` is deprecated. In future, it will be treated as `np.float64 == np.dtype(float).type`.\n",
      "  from ._conv import register_converters as _register_converters\n",
      "Using TensorFlow backend.\n"
     ]
    }
   ],
   "source": [
    "%matplotlib inline\n",
    "\n",
    "from pathlib import Path\n",
    "import zipfile\n",
    "import tempfile\n",
    "import yaml\n",
    "\n",
    "import tensorflow as tf\n",
    "import numpy as np\n",
    "\n",
    "import sys\n",
    "sys.path.append(\"..\")\n",
    "import mask_lib as mlib\n",
    "\n",
    "root_dir = Path(\"/home/hadim/.data/Neural_Network/Mask-RCNN/Microtubules/\")\n",
    "\n",
    "model_dir = root_dir / \"logs\"\n",
    "model_dir.mkdir(parents=True, exist_ok=True)\n",
    "\n",
    "saved_model_dir = root_dir / \"saved_model\"\n",
    "saved_model_dir.mkdir(parents=True, exist_ok=True)\n",
    "\n",
    "model_name = \"coco_512_new\""
   ]
  },
  {
   "cell_type": "markdown",
   "metadata": {},
   "source": [
    "# Import Model "
   ]
  },
  {
   "cell_type": "code",
   "execution_count": 2,
   "metadata": {},
   "outputs": [],
   "source": [
    "config = mlib.MicrotubuleInferenceConfig()\n",
    "config.set_images_per_gpu(1)\n",
    "\n",
    "model = mlib.load_model(model_dir, config, mode=\"inference\")\n",
    "mlib.load_weights(model, init_with=\"last\", model_name=model_name)"
   ]
  },
  {
   "cell_type": "markdown",
   "metadata": {},
   "source": [
    "# Export model to Tensoflow .pb file"
   ]
  },
  {
   "cell_type": "code",
   "execution_count": 3,
   "metadata": {},
   "outputs": [],
   "source": [
    "tf_model_path = saved_model_dir / f\"tf_model_{model_name}.pb\"\n",
    "zip_tf_model_path = saved_model_dir / f\"{tf_model_path.stem}.zip\""
   ]
  },
  {
   "cell_type": "code",
   "execution_count": 4,
   "metadata": {},
   "outputs": [
    {
     "name": "stdout",
     "output_type": "stream",
     "text": [
      "INFO:tensorflow:Froze 384 variables.\n",
      "Converted 384 variables to const ops.\n"
     ]
    },
    {
     "data": {
      "text/plain": [
       "PosixPath('/home/hadim/.data/Neural_Network/Mask-RCNN/Microtubules/saved_model/tf_model_coco_512_new.pb')"
      ]
     },
     "execution_count": 4,
     "metadata": {},
     "output_type": "execute_result"
    }
   ],
   "source": [
    "mlib.export_to_tensorflow(model, tf_model_path, tf_model_zip_path=zip_tf_model_path)\n",
    "tf_model_path"
   ]
  },
  {
   "cell_type": "markdown",
   "metadata": {},
   "source": [
    "# Add pre- and post-processing models to the ZIP file\n",
    "\n",
    "Both models have been created with this notebook: [`5_Build_Processing_Graph.ipynb`](5_Build_Processing_Graph.ipynb)"
   ]
  },
  {
   "cell_type": "code",
   "execution_count": 5,
   "metadata": {},
   "outputs": [],
   "source": [
    "preprocessing_model_path = saved_model_dir / \"preprocessing_graph.pb\"\n",
    "postprocessing_model_path = saved_model_dir / \"postprocessing_graph.pb\"\n",
    "\n",
    "with zipfile.ZipFile(zip_tf_model_path, \"a\") as z:\n",
    "    z.write(preprocessing_model_path, arcname=preprocessing_model_path.name)\n",
    "    z.write(postprocessing_model_path, arcname=postprocessing_model_path.name)"
   ]
  },
  {
   "cell_type": "markdown",
   "metadata": {},
   "source": [
    "# Add parameters to the ZIP file"
   ]
  },
  {
   "cell_type": "code",
   "execution_count": 6,
   "metadata": {},
   "outputs": [
    {
     "data": {
      "text/plain": [
       "{'model_name': 'microtubule',\n",
       " 'class_names': ['BG', 'microtubule'],\n",
       " 'image_min_dimension': 100,\n",
       " 'image_max_dimension': 512,\n",
       " 'minimum_scale': 1.0,\n",
       " 'mean_pixels': [43.53, 39.56, 48.22],\n",
       " 'class_ids': [0.0, 0.0],\n",
       " 'backbone_strides': [4, 8, 16, 32, 64],\n",
       " 'rpn_anchor_scales': [8, 16, 32, 64, 128],\n",
       " 'rpn_anchor_ratios': [0.5, 1, 2],\n",
       " 'rpn_anchor_stride': 1}"
      ]
     },
     "execution_count": 6,
     "metadata": {},
     "output_type": "execute_result"
    }
   ],
   "source": [
    "parameters = {}\n",
    "parameters[\"model_name\"] = config.NAME\n",
    "parameters[\"class_names\"] = config.CLASS_NAMES\n",
    "parameters[\"image_min_dimension\"] = config.IMAGE_MIN_DIM\n",
    "parameters[\"image_max_dimension\"] = config.IMAGE_MAX_DIM\n",
    "parameters[\"minimum_scale\"] = config.IMAGE_MIN_SCALE\n",
    "parameters[\"mean_pixels\"] = config.MEAN_PIXEL.tolist()\n",
    "parameters[\"class_ids\"] = np.zeros(len(config.CLASS_NAMES)).tolist()\n",
    "parameters[\"backbone_strides\"] = list(config.BACKBONE_STRIDES)\n",
    "parameters[\"rpn_anchor_scales\"] = list(config.RPN_ANCHOR_SCALES)\n",
    "parameters[\"rpn_anchor_ratios\"] = list(config.RPN_ANCHOR_RATIOS)\n",
    "parameters[\"rpn_anchor_stride\"] = config.RPN_ANCHOR_STRIDE\n",
    "    \n",
    "_, temp_path = tempfile.mkstemp()\n",
    "\n",
    "with open(temp_path, \"w\") as f:\n",
    "    f.write(yaml.dump(parameters))\n",
    "    \n",
    "with zipfile.ZipFile(zip_tf_model_path, \"a\") as z:\n",
    "    z.write(temp_path, arcname=\"parameters.yml\")\n",
    "    \n",
    "parameters"
   ]
  },
  {
   "cell_type": "code",
   "execution_count": null,
   "metadata": {},
   "outputs": [],
   "source": []
  }
 ],
 "metadata": {
  "kernelspec": {
   "display_name": "Python [conda env:nn]",
   "language": "python",
   "name": "conda-env-nn-py"
  },
  "language_info": {
   "codemirror_mode": {
    "name": "ipython",
    "version": 3
   },
   "file_extension": ".py",
   "mimetype": "text/x-python",
   "name": "python",
   "nbconvert_exporter": "python",
   "pygments_lexer": "ipython3",
   "version": "3.6.5"
  }
 },
 "nbformat": 4,
 "nbformat_minor": 2
}
