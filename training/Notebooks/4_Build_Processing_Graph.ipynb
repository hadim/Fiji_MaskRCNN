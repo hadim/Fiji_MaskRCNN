{
 "cells": [
  {
   "cell_type": "markdown",
   "metadata": {},
   "source": [
    "THe idea is to convert the Python post nd pre processing steps to a TensorFlow model so it can be applied easily to any language supporting TensorFlow such as Java without rewriting all the processing steps. "
   ]
  },
  {
   "cell_type": "code",
   "execution_count": 1,
   "metadata": {},
   "outputs": [
    {
     "name": "stderr",
     "output_type": "stream",
     "text": [
      "/home/hadim/local/conda/envs/nn/lib/python3.6/site-packages/h5py/__init__.py:36: FutureWarning: Conversion of the second argument of issubdtype from `float` to `np.floating` is deprecated. In future, it will be treated as `np.float64 == np.dtype(float).type`.\n",
      "  from ._conv import register_converters as _register_converters\n"
     ]
    }
   ],
   "source": [
    "%matplotlib inline\n",
    "\n",
    "from pathlib import Path\n",
    "\n",
    "import numpy as np\n",
    "import matplotlib.pyplot as plt\n",
    "import tifffile\n",
    "import tensorflow as tf\n",
    "from skimage import color\n",
    "from skimage import transform\n",
    "\n",
    "root_dir = Path(\"/home/hadim/.data/Neural_Network/Mask-RCNN/Microtubules/\")\n",
    "saved_model_dir = root_dir / \"saved_model\"\n",
    "\n",
    "model_name = \"coco_512_new\"\n",
    "\n",
    "# Configurations of the model\n",
    "BATCH_SIZE = 1\n",
    "\n",
    "IMAGE_RESIZE_MODE = \"square\"\n",
    "IMAGE_MIN_DIM = 10\n",
    "IMAGE_MAX_DIM = 512\n",
    "MIN_SCALE = 1\n",
    "MEAN_PIXEL = [123.7, 116.8, 103.9]\n",
    "CLASS_IDS = [\"BG\", \"microtubule\"]\n",
    "IMAGE_SHAPE = [IMAGE_MAX_DIM, IMAGE_MAX_DIM, 3]\n",
    "\n",
    "BACKBONE = \"resnet50\"\n",
    "BACKBONE_STRIDES = [4, 8, 16, 32, 64]\n",
    "RPN_ANCHOR_SCALES = [8, 16, 32, 64, 128]\n",
    "RPN_ANCHOR_RATIOS = [0.5, 1, 2]\n",
    "RPN_ANCHOR_STRIDE = 1\n",
    "\n",
    "INPUT_NODE_IMAGE_NAME = \"input_image\"\n",
    "INPUT_NODE_IMAGE_METADATA_NAME = \"input_image_meta\"\n",
    "INPUT_NODE_ANCHORS_NAME = \"input_anchors\"\n",
    "OUTPUT_NODE_NAMES = [\"detections\", \"mrcnn_class\", \"mrcnn_bbox\", \"mrcnn_mask\", \"rois\"]\n",
    "\n",
    "tf_model_path = saved_model_dir / f\"tf_model_{model_name}.pb\"\n",
    "assert tf_model_path.is_file()\n",
    "\n",
    "preprocessing_model_path = saved_model_dir / \"preprocessing_graph.pb\"\n",
    "postprocessing_model_path = saved_model_dir / \"postprocessing_graph.pb\"\n",
    "\n",
    "def get_tensor(graph, name, suffix=\":0\"):\n",
    "    return graph.get_tensor_by_name(f\"{name}{suffix}\")"
   ]
  },
  {
   "cell_type": "markdown",
   "metadata": {},
   "source": [
    "# Load an image (for testing purpose)"
   ]
  },
  {
   "cell_type": "code",
   "execution_count": 2,
   "metadata": {},
   "outputs": [
    {
     "data": {
      "text/plain": [
       "(1, 200, 200)"
      ]
     },
     "execution_count": 2,
     "metadata": {},
     "output_type": "execute_result"
    }
   ],
   "source": [
    "image_dir = Path(\"/home/hadim/Documents/Code/Postdoc/ij/testdata/\")\n",
    "image_path = image_dir / \"fake-flat-corrected.tif\"\n",
    "#image_path = image_dir / \"7,5uM_emccd_lapse1-small-8bit-Single.tif\"\n",
    "#image_path = image_dir / \"test-tracking-single.tif\"\n",
    "#image_path = image_dir / \"test-tracking.tif\"\n",
    "\n",
    "original_images = tifffile.imread(str(image_path))\n",
    "if len(original_images.shape) == 2:\n",
    "    original_images = np.expand_dims(original_images, 0)\n",
    "original_images.shape"
   ]
  },
  {
   "cell_type": "code",
   "execution_count": 3,
   "metadata": {},
   "outputs": [
    {
     "data": {
      "text/plain": [
       "(512, 512)"
      ]
     },
     "execution_count": 3,
     "metadata": {},
     "output_type": "execute_result"
    },
    {
     "data": {
      "image/png": "[encoded data removed]",
      "text/plain": [
       "<Figure size 432x288 with 1 Axes>"
      ]
     },
     "metadata": {},
     "output_type": "display_data"
    }
   ],
   "source": [
    "original_image = original_images[0]\n",
    "padded_image = np.pad(original_image, [(0, IMAGE_MAX_DIM - original_image.shape[0]),\n",
    "                                       (0, IMAGE_MAX_DIM - original_image.shape[1])],\n",
    "                      mode='constant', constant_values=0)\n",
    "\n",
    "plt.imshow(padded_image)\n",
    "padded_image.shape"
   ]
  },
  {
   "cell_type": "markdown",
   "metadata": {},
   "source": [
    "# Functions used to build the graphs"
   ]
  },
  {
   "cell_type": "code",
   "execution_count": 4,
   "metadata": {},
   "outputs": [],
   "source": [
    "def generate_anchors(scales, ratios, shape, feature_stride, anchor_stride):\n",
    "    \"\"\"\n",
    "    scales: 1D array of anchor sizes in pixels. Example: [32, 64, 128]\n",
    "    ratios: 1D array of anchor ratios of width/height. Example: [0.5, 1, 2]\n",
    "    shape: [height, width] spatial shape of the feature map over which\n",
    "            to generate anchors.\n",
    "    feature_stride: Stride of the feature map relative to the image in pixels.\n",
    "    anchor_stride: Stride of anchors on the feature map. For example, if the\n",
    "        value is 2 then generate anchors for every other feature map pixel.\n",
    "    \"\"\"\n",
    "    # Get all combinations of scales and ratios\n",
    "    scales, ratios = tf.meshgrid(tf.cast(scales, tf.float32), ratios)\n",
    "    scales = tf.layers.flatten(scales)\n",
    "    ratios = tf.layers.flatten(ratios)\n",
    "\n",
    "    # Enumerate heights and widths from scales and ratios\n",
    "    heights = scales / tf.sqrt(ratios)\n",
    "    widths = scales * tf.sqrt(ratios)\n",
    "\n",
    "    # Enumerate shifts in feature space\n",
    "    shifts_y = tf.cast(tf.range(0, shape[0], anchor_stride) * feature_stride, tf.float32)\n",
    "    shifts_x = tf.cast(tf.range(0, shape[1], anchor_stride) * feature_stride, tf.float32)\n",
    "    shifts_x, shifts_y = tf.meshgrid(shifts_x, shifts_y)\n",
    "\n",
    "    # Enumerate combinations of shifts, widths, and heights\n",
    "    box_widths, box_centers_x = tf.meshgrid(widths, shifts_x)\n",
    "    box_heights, box_centers_y = tf.meshgrid(heights, shifts_y)\n",
    "\n",
    "    # Reshape to get a list of (y, x) and a list of (h, w)\n",
    "    box_centers = tf.reshape(tf.stack([box_centers_y, box_centers_x], axis=2), [-1, 2])\n",
    "    box_sizes = tf.reshape(tf.stack([box_heights, box_widths], axis=2), [-1, 2])\n",
    "\n",
    "    # Convert to corner coordinates (y1, x1, y2, x2)\n",
    "    boxes = tf.concat([box_centers - 0.5 * box_sizes,\n",
    "                       box_centers + 0.5 * box_sizes], axis=1)\n",
    "    return boxes\n",
    "\n",
    "def norm_boxes(boxes, shape):\n",
    "    \"\"\"Converts boxes from pixel coordinates to normalized coordinates.\n",
    "    boxes: [N, (y1, x1, y2, x2)] in pixel coordinates\n",
    "    shape: [..., (height, width)] in pixels\n",
    "    Note: In pixel coordinates (y2, x2) is outside the box. But in normalized\n",
    "    coordinates it's inside the box.\n",
    "    Returns:\n",
    "        [N, (y1, x1, y2, x2)] in normalized coordinates\n",
    "    \"\"\"\n",
    "\n",
    "    h = tf.cast(shape[0], dtype=tf.float32)\n",
    "    w = tf.cast(shape[1], dtype=tf.float32)\n",
    "\n",
    "    scale = tf.stack([h - 1, w - 1, h - 1, w - 1], axis=0)\n",
    "    shift = tf.constant([0, 0, 1, 1], dtype=tf.float32)\n",
    "    return tf.divide((boxes - shift), scale)\n",
    "\n",
    "def denorm_boxes(boxes, shape):\n",
    "    \"\"\"Converts boxes from normalized coordinates to pixel coordinates.\n",
    "    boxes: [N, (y1, x1, y2, x2)] in normalized coordinates\n",
    "    shape: [..., (height, width)] in pixels\n",
    "    Note: In pixel coordinates (y2, x2) is outside the box. But in normalized\n",
    "    coordinates it's inside the box.\n",
    "    Returns:\n",
    "        [N, (y1, x1, y2, x2)] in pixel coordinates\n",
    "    \"\"\"\n",
    "    h = tf.cast(shape[0], dtype=tf.float32)\n",
    "    w = tf.cast(shape[1], dtype=tf.float32)\n",
    "    \n",
    "    scale = tf.stack([h - 1, w - 1, h - 1, w - 1], axis=0)\n",
    "    shift = tf.constant([0, 0, 1, 1], dtype=tf.float32)\n",
    "    return tf.cast(tf.round(tf.multiply(boxes, scale) + shift), dtype=tf.int32)\n",
    "\n",
    "def broadcastable_where(condition, x=None, y=None, *args, **kwargs):\n",
    "    \"\"\"Would be soon available natively:\n",
    "    https://github.com/tensorflow/tensorflow/pull/15982\"\"\"\n",
    "    if x is None and y is None:\n",
    "        return tf.where(condition, x, y, *args, **kwargs)\n",
    "    else:\n",
    "        _shape = tf.broadcast_dynamic_shape(tf.shape(condition), tf.shape(x))\n",
    "        _broadcaster = tf.ones(_shape)\n",
    "        return tf.where(\n",
    "            condition & (_broadcaster > 0.0), \n",
    "            x * _broadcaster,\n",
    "            y * _broadcaster,\n",
    "            *args, **kwargs\n",
    "        )\n",
    "    \n",
    "def unmold_mask(mask, bbox, image_shape):\n",
    "    \"\"\"Converts a mask generated by the neural network to a format similar\n",
    "    to its original shape.\n",
    "    mask: [height, width] of type float. A small, typically 28x28 mask.\n",
    "    bbox: [y1, x1, y2, x2]. The box to fit the mask in.\n",
    "    Returns a binary mask with the same size as the original image.\n",
    "    \"\"\"\n",
    "    threshold = 0.5\n",
    "    \n",
    "    output_h = tf.cast(image_shape[0], tf.int32)\n",
    "    output_w = tf.cast(image_shape[1], tf.int32)\n",
    "    output_c = tf.cast(image_shape[2], tf.int32)\n",
    "    \n",
    "    bbox = tf.cast(bbox, tf.int32)\n",
    "    \n",
    "    y1 = bbox[0]\n",
    "    x1 = bbox[1]\n",
    "    y2 = bbox[2]\n",
    "    x2 = bbox[3]\n",
    "    h = y2 - y1\n",
    "    w = x2 - x1\n",
    "\n",
    "    size = tf.stack([h, w])\n",
    "    mask = tf.image.resize_images(mask, size)\n",
    "    mask = broadcastable_where(mask >= threshold, 0, 1)\n",
    "\n",
    "    # Put the mask in the right location.\n",
    "    full_mask = tf.image.pad_to_bounding_box(mask, y1, x1, output_h, output_w)\n",
    "    return full_mask"
   ]
  },
  {
   "cell_type": "markdown",
   "metadata": {},
   "source": [
    "# Build preprocessing graph"
   ]
  },
  {
   "cell_type": "code",
   "execution_count": 5,
   "metadata": {},
   "outputs": [],
   "source": [
    "tf.reset_default_graph()\n",
    "\n",
    "# Define the inputs\n",
    "\n",
    "# Input image padded to IMAGE_MAX_DIM, IMAGE_MAX_DIM\n",
    "image = tf.placeholder(np.float32, shape=(IMAGE_MAX_DIM, IMAGE_MAX_DIM), name=\"input_image\")\n",
    "\n",
    "# Original image size\n",
    "h = tf.placeholder(tf.int32, shape=(), name=\"original_image_height\")\n",
    "w = tf.placeholder(tf.int32, shape=(), name=\"original_image_width\")\n",
    "\n",
    "min_dim = tf.placeholder(tf.int32, shape=(), name=\"image_min_dimension\")\n",
    "max_dim = tf.placeholder(tf.int32, shape=(), name=\"image_max_dimension\")\n",
    "min_scale = tf.placeholder(tf.float32, shape=(), name=\"minimum_scale\")\n",
    "\n",
    "mean_pixels = tf.placeholder(tf.float32, shape=(3, ), name=\"mean_pixels\")\n",
    "\n",
    "class_ids = tf.placeholder(tf.int32, shape=(None, ), name=\"class_ids\")\n",
    "\n",
    "backbone_strides = tf.placeholder(tf.int32, shape=(None, ), name=\"backbone_strides\")\n",
    "rpn_anchor_scales = tf.placeholder(tf.int32, shape=(None, ), name=\"rpn_anchor_scales\")\n",
    "rpn_anchor_ratios = tf.placeholder(tf.float32, shape=(None, ), name=\"rpn_anchor_ratios\")\n",
    "rpn_anchor_stride = tf.placeholder(tf.int32, shape=(), name=\"rpn_anchor_stride\")\n",
    "\n",
    "# Define preprocessing operations\n",
    "\n",
    "# Crop to original size\n",
    "image = tf.expand_dims(image, axis=2)\n",
    "image = tf.image.crop_to_bounding_box(image, 0, 0, h, w)\n",
    "\n",
    "# Convert to RGB\n",
    "image = tf.image.grayscale_to_rgb(image)\n",
    "\n",
    "window = tf.convert_to_tensor([0, 0, h, w])\n",
    "scale = tf.constant(1, tf.float32)\n",
    "padding = tf.convert_to_tensor([(0, 0), (0, 0), (0, 0)])\n",
    "crop = tf.convert_to_tensor([0, 0, 0, 0])\n",
    "\n",
    "# Warning: only mode \"square\" is supported here.\n",
    "scale = tf.cond(tf.equal(min_dim, -1),\n",
    "                lambda: scale,\n",
    "                lambda: tf.maximum(tf.constant(1, tf.float32), tf.cast(min_dim / tf.minimum(h, w), tf.float32)))\n",
    "\n",
    "scale = tf.cond(min_scale != -1 and scale < min_scale,\n",
    "                lambda: min_scale,\n",
    "                lambda: scale)\n",
    "\n",
    "image_max = tf.maximum(h, w)\n",
    "scale = tf.cond(max_dim != -1 and tf.cast(tf.round(tf.cast(image_max, tf.float32) * scale), tf.int32) > max_dim,\n",
    "                lambda: tf.cast(max_dim / image_max, tf.float32),\n",
    "                lambda: scale)\n",
    "\n",
    "# scale != 1 is not supported at the moment. We assume the image is smaller than IMAGE_MAX_DIM\n",
    "\n",
    "# Mode == \"square\"\n",
    "top_pad = (max_dim - h) // 2\n",
    "bottom_pad = max_dim - h - top_pad\n",
    "left_pad = (max_dim - w) // 2\n",
    "right_pad = max_dim - w - left_pad\n",
    "padding = [(top_pad, bottom_pad), (left_pad, right_pad), (0, 0)]\n",
    "image = tf.pad(image, padding, mode='constant', constant_values=0)\n",
    "window = (top_pad, left_pad, h + top_pad, w + left_pad)\n",
    "window = tf.identity(window, name=\"window\")\n",
    "\n",
    "# Mold image\n",
    "molded_image = tf.subtract(image, mean_pixels, name=\"molded_image\")\n",
    "\n",
    "# Build image metadata array\n",
    "# Ideally all the value should be \n",
    "image_id = tf.constant(0)\n",
    "image_meta = tf.concat([tf.cast([image_id], tf.float32),\n",
    "                         tf.cast([h, w, 3], tf.float32),\n",
    "                         tf.cast(tf.shape(molded_image), tf.float32),\n",
    "                         tf.cast(window, tf.float32),\n",
    "                         [scale],\n",
    "                         tf.cast(class_ids, tf.float32)], axis=0)\n",
    "image_meta = tf.cast(image_meta, tf.float32)\n",
    "image_meta = tf.identity(image_meta, name=\"image_metadata\")\n",
    "\n",
    "# Compute backbone shapes\n",
    "backbone_shape_y = tf.map_fn(lambda stride: tf.cast(tf.round(tf.ceil(tf.shape(image)[0] / stride)), tf.int32),\n",
    "                             backbone_strides)\n",
    "backbone_shape_x = tf.map_fn(lambda stride: tf.cast(tf.round(tf.ceil(tf.shape(image)[1] / stride)), tf.int32),\n",
    "                             backbone_strides)\n",
    "backbone_shapes = tf.stack([backbone_shape_y, backbone_shape_x])\n",
    "backbone_shapes = tf.transpose(backbone_shapes, name=\"backbone_shapes\")\n",
    "\n",
    "# Here is a complicated nested tf.while_loop. Look this thread for details :\n",
    "# https://stackoverflow.com/questions/50087883/tf-while-loop-with-flexible-row-numbers-per-iteration for details.\n",
    "\n",
    "def make_inner_loop_body(total_size, anchor):\n",
    "    def _inner_loop_body(j, ta):\n",
    "        return j + 1, ta.write(total_size + j, anchor[j])\n",
    "    return _inner_loop_body\n",
    "\n",
    "def loop_body(i, total_size, ta):\n",
    "    scale = rpn_anchor_scales[i]\n",
    "    ratios = rpn_anchor_ratios\n",
    "    shape = backbone_shapes[i]\n",
    "    feature_stride = backbone_strides[i]\n",
    "    anchor_stride = rpn_anchor_stride\n",
    "    \n",
    "    anchor = generate_anchors(scale, ratios, shape, feature_stride, anchor_stride)\n",
    "    anchor = tf.cast(anchor, tf.float32)\n",
    "    n_rows = tf.shape(anchor)[0]\n",
    "    \n",
    "    _, ta = tf.while_loop(lambda j, ta: j < n_rows,\n",
    "                          make_inner_loop_body(total_size, anchor),\n",
    "                          (tf.zeros([], dtype=tf.int32), ta))\n",
    "    \n",
    "    return i+1, total_size + n_rows, ta\n",
    "\n",
    "anchors_array = tf.TensorArray(tf.float32, size=0, dynamic_size=True)\n",
    "num_elems = tf.shape(rpn_anchor_scales)[0]\n",
    "\n",
    "_, _, anchors= tf.while_loop(lambda i, total_size, ta: i < num_elems,\n",
    "                             loop_body,\n",
    "                             (tf.zeros([], dtype=tf.int32),\n",
    "                              tf.zeros([], dtype=tf.int32),\n",
    "                              anchors_array))\n",
    "\n",
    "anchors = anchors.stack()\n",
    "anchors = tf.reshape(anchors, shape=(-1, 4))\n",
    "\n",
    "# Normalize coordinates\n",
    "anchors = norm_boxes(anchors, tf.shape(image)[:2])\n",
    "\n",
    "anchors = tf.identity(anchors, name=\"anchors\")"
   ]
  },
  {
   "cell_type": "code",
   "execution_count": 6,
   "metadata": {},
   "outputs": [],
   "source": [
    "# Save preprocessing graph\n",
    "with tf.Session() as sess:\n",
    "    with tf.gfile.GFile(str(preprocessing_model_path), 'wb') as f:\n",
    "        f.write(sess.graph_def.SerializeToString())"
   ]
  },
  {
   "cell_type": "markdown",
   "metadata": {},
   "source": [
    "# Do preprocessing"
   ]
  },
  {
   "cell_type": "code",
   "execution_count": 7,
   "metadata": {},
   "outputs": [],
   "source": [
    "# Load preprocessing graph\n",
    "with tf.gfile.FastGFile(str(preprocessing_model_path), 'rb') as f:\n",
    "    graph_def = tf.GraphDef()\n",
    "    graph_def.ParseFromString(f.read())\n",
    "    tf.reset_default_graph()\n",
    "    tf.import_graph_def(graph_def, name='')"
   ]
  },
  {
   "cell_type": "code",
   "execution_count": 8,
   "metadata": {},
   "outputs": [
    {
     "data": {
      "text/plain": [
       "dict_keys(['molded_image', 'image_metadata', 'window', 'anchors'])"
      ]
     },
     "execution_count": 8,
     "metadata": {},
     "output_type": "execute_result"
    }
   ],
   "source": [
    "with tf.Session() as sess:\n",
    "  \n",
    "    # Declare inputs\n",
    "    image = get_tensor(sess.graph, \"input_image\")\n",
    "    h = get_tensor(sess.graph, \"original_image_height\")\n",
    "    w = get_tensor(sess.graph, \"original_image_width\")\n",
    "    min_dim = get_tensor(sess.graph, \"image_min_dimension\")\n",
    "    max_dim = get_tensor(sess.graph, \"image_max_dimension\")\n",
    "    min_scale = get_tensor(sess.graph, \"minimum_scale\")\n",
    "    mean_pixels = get_tensor(sess.graph, \"mean_pixels\")\n",
    "    class_ids = get_tensor(sess.graph, \"class_ids\")\n",
    "    backbone_strides = get_tensor(sess.graph, \"backbone_strides\")\n",
    "    rpn_anchor_scales = get_tensor(sess.graph, \"rpn_anchor_scales\")\n",
    "    rpn_anchor_ratios = get_tensor(sess.graph, \"rpn_anchor_ratios\")\n",
    "    rpn_anchor_stride = get_tensor(sess.graph, \"rpn_anchor_stride\")\n",
    "    \n",
    "    feed_dict = {image: padded_image,\n",
    "                 h: original_image.shape[0],\n",
    "                 w: original_image.shape[1],\n",
    "                 min_dim: IMAGE_MIN_DIM,\n",
    "                 max_dim: IMAGE_MAX_DIM,\n",
    "                 min_scale: MIN_SCALE,\n",
    "                 mean_pixels: MEAN_PIXEL,\n",
    "                 class_ids: np.zeros([len(CLASS_IDS)], dtype=np.int32),\n",
    "                 backbone_strides: BACKBONE_STRIDES,\n",
    "                 rpn_anchor_scales: RPN_ANCHOR_SCALES,\n",
    "                 rpn_anchor_ratios: RPN_ANCHOR_RATIOS,\n",
    "                 rpn_anchor_stride: RPN_ANCHOR_STRIDE}\n",
    "    \n",
    "    # Declare outputs   \n",
    "    fetches = {\"molded_image\": get_tensor(sess.graph, \"molded_image\"),\n",
    "               \"image_metadata\": get_tensor(sess.graph, \"image_metadata\"),\n",
    "               \"window\": get_tensor(sess.graph, \"window\"),\n",
    "               \"anchors\": get_tensor(sess.graph, \"anchors\")}\n",
    "    \n",
    "    preprocessing_results = sess.run(fetches, feed_dict=feed_dict)\n",
    "    \n",
    "preprocessing_results.keys()"
   ]
  },
  {
   "cell_type": "code",
   "execution_count": 9,
   "metadata": {},
   "outputs": [
    {
     "data": {
      "text/plain": [
       "<matplotlib.image.AxesImage at 0x7f1ab074e080>"
      ]
     },
     "execution_count": 9,
     "metadata": {},
     "output_type": "execute_result"
    },
    {
     "data": {
      "image/png": "[encoded data removed]",
      "text/plain": [
       "<Figure size 432x288 with 1 Axes>"
      ]
     },
     "metadata": {},
     "output_type": "display_data"
    }
   ],
   "source": [
    "plt.imshow(preprocessing_results[\"molded_image\"][:, :, 0])"
   ]
  },
  {
   "cell_type": "markdown",
   "metadata": {},
   "source": [
    "# Predict with Mask RCNN"
   ]
  },
  {
   "cell_type": "code",
   "execution_count": 10,
   "metadata": {},
   "outputs": [
    {
     "data": {
      "text/plain": [
       "dict_keys(['detections', 'mrcnn_class', 'mrcnn_bbox', 'mrcnn_mask', 'rois'])"
      ]
     },
     "execution_count": 10,
     "metadata": {},
     "output_type": "execute_result"
    }
   ],
   "source": [
    "# Load Mask-RCNN model\n",
    "with tf.gfile.FastGFile(str(tf_model_path), 'rb') as f:\n",
    "    graph_def = tf.GraphDef()\n",
    "    graph_def.ParseFromString(f.read())\n",
    "    tf.reset_default_graph()\n",
    "    tf.import_graph_def(graph_def, name='')\n",
    "    \n",
    "# Prepare inputs\n",
    "molded_images = [preprocessing_results[\"molded_image\"]]\n",
    "image_metas = [preprocessing_results[\"image_metadata\"]]\n",
    "anchors = [preprocessing_results[\"anchors\"]]\n",
    "\n",
    "with tf.Session() as sess:\n",
    "    \n",
    "    # Prepare inputs and outputs\n",
    "    input_image_tensor = get_tensor(sess.graph, INPUT_NODE_IMAGE_NAME)\n",
    "    input_image_metadat_tensor = get_tensor(sess.graph, INPUT_NODE_IMAGE_METADATA_NAME)\n",
    "    input_anchor_tensor = get_tensor(sess.graph, INPUT_NODE_ANCHORS_NAME)\n",
    "    \n",
    "    input_data = {input_image_tensor: molded_images,\n",
    "                  input_image_metadat_tensor: image_metas,\n",
    "                  input_anchor_tensor: anchors}\n",
    "\n",
    "    output_data = {node_name: get_tensor(sess.graph, f'output_{node_name}')\n",
    "                   for node_name in OUTPUT_NODE_NAMES}\n",
    "    \n",
    "    # Run the prediction\n",
    "    raw_results = sess.run(fetches=output_data, feed_dict=input_data)\n",
    "\n",
    "raw_results.keys()"
   ]
  },
  {
   "cell_type": "markdown",
   "metadata": {},
   "source": [
    "# Postprocessing "
   ]
  },
  {
   "cell_type": "code",
   "execution_count": 11,
   "metadata": {},
   "outputs": [],
   "source": [
    "tf.reset_default_graph()\n",
    "\n",
    "# Define the inputs\n",
    "\n",
    "# [N, (y1, x1, y2, x2, class_id, score)] in normalized coordinates\n",
    "detections = tf.placeholder(tf.float32, shape=(None, None, 6), name=\"detections\")\n",
    "\n",
    "# [N, height, width, num_classes]\n",
    "mrcnn_mask = tf.placeholder(tf.float32, shape=(None, None, None, None, None), name=\"mrcnn_mask\")\n",
    "\n",
    "# [H, W, C] Original image shape before resizing\n",
    "original_image_shape = tf.placeholder(tf.int64, shape=(3,), name=\"original_image_shape\")\n",
    "\n",
    "# [H, W, C] Shape of the image after resizing and padding\n",
    "image_shape = tf.placeholder(tf.int64, shape=(3,), name=\"image_shape\")\n",
    "\n",
    "# [y1, x1, y2, x2] Pixel coordinates of box in the image where the real image is excluding the padding.\n",
    "window = tf.placeholder(tf.int32, shape=(4), name=\"window\")\n",
    "window = tf.cast(window, tf.float32)\n",
    "\n",
    "# Only select the first image of detections and mrcnn_mask\n",
    "detections = detections[0]\n",
    "mrcnn_mask = mrcnn_mask[0]\n",
    "\n",
    "# Unmold detections\n",
    "\n",
    "# How many detections do we have?\n",
    "# Detections array is padded with zeros. Find the first class_id == 0.\n",
    "zero_ix = tf.where(tf.equal(detections[:, 4], 0))[0]\n",
    "N = tf.cond(tf.shape(zero_ix)[0] > 0, lambda: tf.cast(zero_ix[0], tf.int32), lambda: tf.cast(tf.shape(detections)[0], tf.int32))\n",
    "\n",
    "# Extract boxes, class_ids, scores, and class-specific masks\n",
    "boxes = detections[:N, :4]\n",
    "class_ids = tf.cast(detections[:N, 4], tf.int32)\n",
    "scores = detections[:N, 5]\n",
    "masks = mrcnn_mask[:N, :, :, :]\n",
    "\n",
    "# Translate normalized coordinates in the resized image to pixel\n",
    "# coordinates in the original image before resizing\n",
    "window = norm_boxes(window, image_shape[:2])\n",
    "wy1 = window[0]\n",
    "wx1 = window[1]\n",
    "wy2 = window[2]\n",
    "wx2 = window[3]\n",
    "shift = tf.stack([wy1, wx1, wy1, wx1], axis=0)\n",
    "wh = wy2 - wy1  # window height\n",
    "ww = wx2 - wx1  # window width\n",
    "scale = tf.stack([wh, ww, wh, ww], axis=0) \n",
    "# Convert boxes to normalized coordinates on the window\n",
    "boxes = tf.divide(boxes - shift, scale)\n",
    "# Convert boxes to pixel coordinates on the original image\n",
    "boxes = denorm_boxes(boxes, original_image_shape[:2])\n",
    "\n",
    "# TODO: \n",
    "# Filter out detections with zero area. Happens in early training when\n",
    "# network weights are still random\n",
    "\n",
    "# Resize masks to original image size and set boundary threshold.\n",
    "def loop_body(i, ta):\n",
    "    full_mask = unmold_mask(masks[i], boxes[i], original_image_shape)\n",
    "    ta = ta.write(i, full_mask)\n",
    "    return i+1, ta\n",
    "\n",
    "num_elems = tf.shape(masks)[0]\n",
    "tensor_array = tf.TensorArray(tf.float32, size=0, dynamic_size=True)\n",
    "\n",
    "_, full_masks = tf.while_loop(lambda i, ta: i < num_elems,\n",
    "                              loop_body, [0, tensor_array])\n",
    "full_masks = full_masks.stack()\n",
    "\n",
    "boxes = tf.identity(boxes, name=\"rois\")\n",
    "class_ids = tf.identity(class_ids, name=\"class_ids\")\n",
    "scores = tf.identity(scores, name=\"scores\")\n",
    "full_masks = tf.identity(full_masks, name=\"masks\")"
   ]
  },
  {
   "cell_type": "code",
   "execution_count": 12,
   "metadata": {},
   "outputs": [],
   "source": [
    "# Save preprocessing graph\n",
    "with tf.Session() as sess:\n",
    "    with tf.gfile.GFile(str(postprocessing_model_path), 'wb') as f:\n",
    "        f.write(sess.graph_def.SerializeToString())"
   ]
  },
  {
   "cell_type": "markdown",
   "metadata": {},
   "source": [
    "# Do postprocessing"
   ]
  },
  {
   "cell_type": "code",
   "execution_count": 13,
   "metadata": {},
   "outputs": [],
   "source": [
    "# Load preprocessing graph\n",
    "with tf.gfile.FastGFile(str(postprocessing_model_path), 'rb') as f:\n",
    "    graph_def = tf.GraphDef()\n",
    "    graph_def.ParseFromString(f.read())\n",
    "    tf.reset_default_graph()\n",
    "    tf.import_graph_def(graph_def, name='')"
   ]
  },
  {
   "cell_type": "code",
   "execution_count": 14,
   "metadata": {},
   "outputs": [
    {
     "data": {
      "text/plain": [
       "dict_keys(['rois', 'class_ids', 'scores', 'masks'])"
      ]
     },
     "execution_count": 14,
     "metadata": {},
     "output_type": "execute_result"
    }
   ],
   "source": [
    "with tf.Session() as sess:\n",
    "  \n",
    "    # Declare inputs\n",
    "    detections = get_tensor(sess.graph, \"detections\")\n",
    "    mrcnn_mask = get_tensor(sess.graph, \"mrcnn_mask\")\n",
    "    original_image_shape = get_tensor(sess.graph, \"original_image_shape\")\n",
    "    image_shape = get_tensor(sess.graph, \"image_shape\")\n",
    "    window = get_tensor(sess.graph, \"window\")\n",
    "    \n",
    "    feed_dict = {detections: raw_results[\"detections\"],\n",
    "                 mrcnn_mask: raw_results[\"mrcnn_mask\"],\n",
    "                 original_image_shape: list(original_images.shape[1:3]) + [1],\n",
    "                 image_shape: IMAGE_SHAPE,\n",
    "                 window: preprocessing_results[\"window\"]}\n",
    "    \n",
    "    # Declare outputs   \n",
    "    fetches = {\"rois\": get_tensor(sess.graph, \"rois\"),\n",
    "               \"class_ids\": get_tensor(sess.graph, \"class_ids\"),\n",
    "               \"scores\": get_tensor(sess.graph, \"scores\"),\n",
    "               \"masks\": get_tensor(sess.graph, \"masks\")}\n",
    "    \n",
    "    postprocessing_results = sess.run(fetches, feed_dict=feed_dict)\n",
    "    \n",
    "postprocessing_results.keys()"
   ]
  },
  {
   "cell_type": "code",
   "execution_count": 15,
   "metadata": {},
   "outputs": [
    {
     "data": {
      "text/plain": [
       "array([0.99999917, 0.99999607, 0.9999956 , 0.99998593, 0.9999827 ,\n",
       "       0.99997854, 0.9999534 , 0.96548504, 0.9635443 , 0.963442  ,\n",
       "       0.8852474 , 0.85431856, 0.7702001 , 0.7675018 , 0.7467046 ,\n",
       "       0.67973465, 0.5642408 , 0.54050374], dtype=float32)"
      ]
     },
     "execution_count": 15,
     "metadata": {},
     "output_type": "execute_result"
    }
   ],
   "source": [
    "postprocessing_results['scores']"
   ]
  },
  {
   "cell_type": "markdown",
   "metadata": {},
   "source": [
    "# Display result of detection"
   ]
  },
  {
   "cell_type": "code",
   "execution_count": 16,
   "metadata": {},
   "outputs": [
    {
     "data": {
      "image/png": "[encoded data removed]",
      "text/plain": [
       "<Figure size 1008x576 with 2 Axes>"
      ]
     },
     "metadata": {},
     "output_type": "display_data"
    }
   ],
   "source": [
    "from matplotlib.patches import Rectangle\n",
    "\n",
    "projected_masks = postprocessing_results['masks'].max(axis=0)[:, :, 0]\n",
    "\n",
    "fig, (ax1, ax2) = plt.subplots(ncols=2, figsize=(14, 8))\n",
    "\n",
    "ax1.imshow(original_image)\n",
    "ax2.imshow(projected_masks)\n",
    "\n",
    "for i, roi in enumerate(postprocessing_results[\"rois\"]):\n",
    "    y1, x1, y2, x2 = roi\n",
    "    rect = Rectangle((x1, y1), x2 - x1, y2 - y1, fill=False, color=\"red\")\n",
    "    ax1.add_artist(rect)\n",
    "    rect = Rectangle((x1, y1), x2 - x1, y2 - y1, fill=False, color=\"red\")\n",
    "    ax2.add_artist(rect)"
   ]
  },
  {
   "cell_type": "code",
   "execution_count": null,
   "metadata": {},
   "outputs": [],
   "source": []
  }
 ],
 "metadata": {
  "kernelspec": {
   "display_name": "Python [conda env:nn]",
   "language": "python",
   "name": "conda-env-nn-py"
  },
  "language_info": {
   "codemirror_mode": {
    "name": "ipython",
    "version": 3
   },
   "file_extension": ".py",
   "mimetype": "text/x-python",
   "name": "python",
   "nbconvert_exporter": "python",
   "pygments_lexer": "ipython3",
   "version": "3.6.5"
  }
 },
 "nbformat": 4,
 "nbformat_minor": 2
}
