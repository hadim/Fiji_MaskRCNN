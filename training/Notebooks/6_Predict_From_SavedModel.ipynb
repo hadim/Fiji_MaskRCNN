{
 "cells": [
  {
   "cell_type": "code",
   "execution_count": 20,
   "metadata": {},
   "outputs": [],
   "source": [
    "%matplotlib inline\n",
    "\n",
    "from pathlib import Path\n",
    "import tempfile\n",
    "import zipfile\n",
    "import yaml\n",
    "import importlib\n",
    "\n",
    "import numpy as np\n",
    "import matplotlib.pyplot as plt\n",
    "import tifffile\n",
    "import tensorflow as tf\n",
    "from skimage import color\n",
    "from skimage import transform\n",
    "\n",
    "import quilt\n",
    "\n",
    "# Configurations of the model\n",
    "INPUT_NODE_IMAGE_NAME = \"input_image\"\n",
    "INPUT_NODE_IMAGE_METADATA_NAME = \"input_image_meta\"\n",
    "INPUT_NODE_ANCHORS_NAME = \"input_anchors\"\n",
    "OUTPUT_NODE_NAMES = [\"detections\", \"mrcnn_class\", \"mrcnn_bbox\", \"mrcnn_mask\", \"rois\"]\n",
    "\n",
    "def get_tensor(graph, name, suffix=\":0\"):\n",
    "    return graph.get_tensor_by_name(f\"{name}{suffix}\")"
   ]
  },
  {
   "cell_type": "markdown",
   "metadata": {},
   "source": [
    "Here we load the different graph paths and parameters from the ZIP archive or from the Quilt data package."
   ]
  },
  {
   "cell_type": "code",
   "execution_count": 28,
   "metadata": {},
   "outputs": [
    {
     "name": "stdout",
     "output_type": "stream",
     "text": [
      "Downloading package metadata...\n",
      "hadim/mask_rcnn_tf_model_in_vitro_microtubule already installed.\n"
     ]
    }
   ],
   "source": [
    "load_from_quilt = True\n",
    "\n",
    "if load_from_quilt:    \n",
    "    quilt_user = \"hadim\"\n",
    "    quilt_model_name = \"mask_rcnn_tf_model_in_vitro_microtubule\"\n",
    "    quilt_path = quilt_user + \"/\" + quilt_model_name\n",
    "    quilt.install(quilt_path)\n",
    "\n",
    "    quilt_model = importlib.import_module(f\"quilt.data.{quilt_user}.{quilt_model_name}\")\n",
    "\n",
    "    tf_model_path = quilt_model.model()\n",
    "    preprocessing_model_path = quilt_model.preprocessing_graph()\n",
    "    postprocessing_model_path = quilt_model.postprocessing_graph()\n",
    "    parameters_path = quilt_model.parameters()\n",
    "\n",
    "else:\n",
    "    root_dir = Path(\"/home/hadim/.data/Neural_Network/Mask-RCNN/Microtubules/\")\n",
    "    saved_model_dir = root_dir / \"saved_model\"\n",
    "    \n",
    "    model_name = \"microtubule_coco_512\"\n",
    "    zip_tf_model_path = saved_model_dir / f\"tf_model_{model_name}.zip\"\n",
    "\n",
    "    temp_path = Path(tempfile.mkdtemp())\n",
    "    with zipfile.ZipFile(zip_tf_model_path, \"r\") as z:\n",
    "        z.extractall(temp_path)\n",
    "\n",
    "    tf_model_path = temp_path /f\"model.pb\"\n",
    "    preprocessing_model_path = temp_path / \"preprocessing_graph.pb\"\n",
    "    postprocessing_model_path = temp_path / \"postprocessing_graph.pb\"\n",
    "    parameters_path = temp_path / \"parameters.yml\""
   ]
  },
  {
   "cell_type": "code",
   "execution_count": 29,
   "metadata": {},
   "outputs": [],
   "source": [
    "# Load parameters\n",
    "parameters = yaml.load(open(parameters_path))\n",
    "\n",
    "BATCH_SIZE = 1\n",
    "\n",
    "IMAGE_MIN_DIM = parameters[\"image_min_dimension\"]\n",
    "IMAGE_MAX_DIM = parameters[\"image_max_dimension\"]\n",
    "MIN_SCALE = parameters[\"minimum_scale\"]\n",
    "MEAN_PIXEL = parameters[\"mean_pixels\"]\n",
    "CLASS_IDS = parameters[\"class_ids\"]\n",
    "IMAGE_SHAPE = [IMAGE_MAX_DIM, IMAGE_MAX_DIM, 3]\n",
    "\n",
    "BACKBONE_STRIDES = parameters[\"backbone_strides\"]\n",
    "RPN_ANCHOR_SCALES = parameters[\"rpn_anchor_scales\"]\n",
    "RPN_ANCHOR_RATIOS = parameters[\"rpn_anchor_ratios\"]\n",
    "RPN_ANCHOR_STRIDE = parameters[\"rpn_anchor_stride\"]"
   ]
  },
  {
   "cell_type": "markdown",
   "metadata": {},
   "source": [
    "# Load an image"
   ]
  },
  {
   "cell_type": "code",
   "execution_count": 30,
   "metadata": {},
   "outputs": [
    {
     "data": {
      "text/plain": [
       "(512, 512)"
      ]
     },
     "execution_count": 30,
     "metadata": {},
     "output_type": "execute_result"
    },
    {
     "data": {
      "image/png": "[encoded data removed]",
      "text/plain": [
       "<Figure size 432x288 with 1 Axes>"
      ]
     },
     "metadata": {},
     "output_type": "display_data"
    }
   ],
   "source": [
    "image_dir = Path(\"/home/hadim/Documents/Code/Postdoc/ij/testdata/\")\n",
    "image_path = image_dir / \"fake-flat-corrected.tif\"\n",
    "image_path = image_dir / \"7,5uM_emccd_lapse1-small-8bit-Single.tif\"\n",
    "#image_path = image_dir / \"test-tracking-single.tif\"\n",
    "#image_path = image_dir / \"test-tracking.tif\"\n",
    "\n",
    "original_images = tifffile.imread(str(image_path))\n",
    "if len(original_images.shape) == 2:\n",
    "    original_images = np.expand_dims(original_images, 0)\n",
    "\n",
    "original_image = original_images[0]\n",
    "padded_image = np.pad(original_image, [(0, IMAGE_MAX_DIM - original_image.shape[0]),\n",
    "                                       (0, IMAGE_MAX_DIM - original_image.shape[1])],\n",
    "                      mode='constant', constant_values=0)\n",
    "\n",
    "plt.imshow(padded_image)\n",
    "padded_image.shape"
   ]
  },
  {
   "cell_type": "markdown",
   "metadata": {},
   "source": [
    "# Preprocessing"
   ]
  },
  {
   "cell_type": "code",
   "execution_count": 31,
   "metadata": {},
   "outputs": [],
   "source": [
    "# Load preprocessing graph\n",
    "with tf.gfile.FastGFile(str(preprocessing_model_path), 'rb') as f:\n",
    "    graph_def = tf.GraphDef()\n",
    "    graph_def.ParseFromString(f.read())\n",
    "    tf.reset_default_graph()\n",
    "    tf.import_graph_def(graph_def, name='')\n",
    "\n",
    "# Do preprocessing\n",
    "with tf.Session() as sess:\n",
    "  \n",
    "    # Declare inputs\n",
    "    image = get_tensor(sess.graph, \"input_image\")\n",
    "    h = get_tensor(sess.graph, \"original_image_height\")\n",
    "    w = get_tensor(sess.graph, \"original_image_width\")\n",
    "    min_dim = get_tensor(sess.graph, \"image_min_dimension\")\n",
    "    max_dim = get_tensor(sess.graph, \"image_max_dimension\")\n",
    "    min_scale = get_tensor(sess.graph, \"minimum_scale\")\n",
    "    mean_pixels = get_tensor(sess.graph, \"mean_pixels\")\n",
    "    class_ids = get_tensor(sess.graph, \"class_ids\")\n",
    "    backbone_strides = get_tensor(sess.graph, \"backbone_strides\")\n",
    "    rpn_anchor_scales = get_tensor(sess.graph, \"rpn_anchor_scales\")\n",
    "    rpn_anchor_ratios = get_tensor(sess.graph, \"rpn_anchor_ratios\")\n",
    "    rpn_anchor_stride = get_tensor(sess.graph, \"rpn_anchor_stride\")\n",
    "    \n",
    "    feed_dict = {image: padded_image,\n",
    "                 h: original_image.shape[0],\n",
    "                 w: original_image.shape[1],\n",
    "                 min_dim: IMAGE_MIN_DIM,\n",
    "                 max_dim: IMAGE_MAX_DIM,\n",
    "                 min_scale: MIN_SCALE,\n",
    "                 mean_pixels: MEAN_PIXEL,\n",
    "                 class_ids: np.zeros([len(CLASS_IDS)], dtype=np.int32),\n",
    "                 backbone_strides: BACKBONE_STRIDES,\n",
    "                 rpn_anchor_scales: RPN_ANCHOR_SCALES,\n",
    "                 rpn_anchor_ratios: RPN_ANCHOR_RATIOS,\n",
    "                 rpn_anchor_stride: RPN_ANCHOR_STRIDE}\n",
    "    \n",
    "    # Declare outputs   \n",
    "    fetches = {\"molded_image\": get_tensor(sess.graph, \"molded_image\"),\n",
    "               \"image_metadata\": get_tensor(sess.graph, \"image_metadata\"),\n",
    "               \"window\": get_tensor(sess.graph, \"window\"),\n",
    "               \"anchors\": get_tensor(sess.graph, \"anchors\")}\n",
    "    \n",
    "    preprocessing_results = sess.run(fetches, feed_dict=feed_dict)"
   ]
  },
  {
   "cell_type": "code",
   "execution_count": 32,
   "metadata": {},
   "outputs": [
    {
     "data": {
      "text/plain": [
       "<matplotlib.image.AxesImage at 0x7fbff804e710>"
      ]
     },
     "execution_count": 32,
     "metadata": {},
     "output_type": "execute_result"
    },
    {
     "data": {
      "image/png": "[encoded data removed]",
      "text/plain": [
       "<Figure size 432x288 with 1 Axes>"
      ]
     },
     "metadata": {},
     "output_type": "display_data"
    }
   ],
   "source": [
    "plt.imshow(preprocessing_results[\"molded_image\"][:, :, 0])"
   ]
  },
  {
   "cell_type": "markdown",
   "metadata": {},
   "source": [
    "# Load Model and Run Prediction"
   ]
  },
  {
   "cell_type": "code",
   "execution_count": 33,
   "metadata": {},
   "outputs": [],
   "source": [
    "# Load Mask-RCNN model\n",
    "with tf.gfile.FastGFile(str(tf_model_path), 'rb') as f:\n",
    "    graph_def = tf.GraphDef()\n",
    "    graph_def.ParseFromString(f.read())\n",
    "    tf.reset_default_graph()\n",
    "    tf.import_graph_def(graph_def, name='')\n",
    "    \n",
    "# Prepare inputs\n",
    "molded_images = [preprocessing_results[\"molded_image\"]]\n",
    "image_metas = [preprocessing_results[\"image_metadata\"]]\n",
    "anchors = [preprocessing_results[\"anchors\"]]\n",
    "\n",
    "with tf.Session() as sess:\n",
    "    \n",
    "    # Prepare inputs and outputs\n",
    "    input_image_tensor = get_tensor(sess.graph, INPUT_NODE_IMAGE_NAME)\n",
    "    input_image_metadat_tensor = get_tensor(sess.graph, INPUT_NODE_IMAGE_METADATA_NAME)\n",
    "    input_anchor_tensor = get_tensor(sess.graph, INPUT_NODE_ANCHORS_NAME)\n",
    "    \n",
    "    input_data = {input_image_tensor: molded_images,\n",
    "                  input_image_metadat_tensor: image_metas,\n",
    "                  input_anchor_tensor: anchors}\n",
    "\n",
    "    output_data = {node_name: get_tensor(sess.graph, f'output_{node_name}')\n",
    "                   for node_name in OUTPUT_NODE_NAMES}\n",
    "    \n",
    "    # Run the prediction\n",
    "    raw_results = sess.run(fetches=output_data, feed_dict=input_data)"
   ]
  },
  {
   "cell_type": "markdown",
   "metadata": {},
   "source": [
    "# Do postprocessing"
   ]
  },
  {
   "cell_type": "code",
   "execution_count": 34,
   "metadata": {},
   "outputs": [],
   "source": [
    "# Load preprocessing graph\n",
    "with tf.gfile.FastGFile(str(postprocessing_model_path), 'rb') as f:\n",
    "    graph_def = tf.GraphDef()\n",
    "    graph_def.ParseFromString(f.read())\n",
    "    tf.reset_default_graph()\n",
    "    tf.import_graph_def(graph_def, name='')"
   ]
  },
  {
   "cell_type": "code",
   "execution_count": 35,
   "metadata": {},
   "outputs": [
    {
     "data": {
      "text/plain": [
       "array([[ 64, 114,  87, 148],\n",
       "       [ 46,  26,  57,  35],\n",
       "       [ 23,  14,  40,  26],\n",
       "       [  8, 160,  28, 192],\n",
       "       [104,  63, 115,  70],\n",
       "       [  0, 189,   8, 197],\n",
       "       [ 67, 196,  92, 205],\n",
       "       [104,  42, 112,  49],\n",
       "       [  6, 158,  14, 166]], dtype=int32)"
      ]
     },
     "execution_count": 35,
     "metadata": {},
     "output_type": "execute_result"
    }
   ],
   "source": [
    "with tf.Session() as sess:\n",
    "  \n",
    "    # Declare inputs\n",
    "    detections = get_tensor(sess.graph, \"detections\")\n",
    "    mrcnn_mask = get_tensor(sess.graph, \"mrcnn_mask\")\n",
    "    original_image_shape = get_tensor(sess.graph, \"original_image_shape\")\n",
    "    image_shape = get_tensor(sess.graph, \"image_shape\")\n",
    "    window = get_tensor(sess.graph, \"window\")\n",
    "    \n",
    "    feed_dict = {detections: raw_results[\"detections\"],\n",
    "                 mrcnn_mask: raw_results[\"mrcnn_mask\"],\n",
    "                 original_image_shape: list(original_images.shape[1:3]) + [1],\n",
    "                 image_shape: IMAGE_SHAPE,\n",
    "                 window: preprocessing_results[\"window\"]}\n",
    "    \n",
    "    # Declare outputs   \n",
    "    fetches = {\"rois\": get_tensor(sess.graph, \"rois\"),\n",
    "               \"class_ids\": get_tensor(sess.graph, \"class_ids\"),\n",
    "               \"scores\": get_tensor(sess.graph, \"scores\"),\n",
    "               \"masks\": get_tensor(sess.graph, \"masks\")}\n",
    "    \n",
    "    postprocessing_results = sess.run(fetches, feed_dict=feed_dict)\n",
    "    \n",
    "postprocessing_results[\"rois\"]"
   ]
  },
  {
   "cell_type": "markdown",
   "metadata": {},
   "source": [
    "# Display result of detection"
   ]
  },
  {
   "cell_type": "code",
   "execution_count": null,
   "metadata": {},
   "outputs": [],
   "source": [
    "from matplotlib.patches import Rectangle\n",
    "\n",
    "projected_masks = postprocessing_results['masks'].max(axis=0)\n",
    "\n",
    "fig, (ax1, ax2) = plt.subplots(ncols=2, figsize=(14, 8))\n",
    "\n",
    "ax1.imshow(original_image)\n",
    "ax2.imshow(projected_masks)\n",
    "\n",
    "for i, roi in enumerate(postprocessing_results[\"rois\"]):\n",
    "    y1, x1, y2, x2 = roi\n",
    "    rect = Rectangle((x1, y1), x2 - x1, y2 - y1, fill=False, color=\"red\")\n",
    "    ax1.add_artist(rect)\n",
    "    rect = Rectangle((x1, y1), x2 - x1, y2 - y1, fill=False, color=\"red\")\n",
    "    ax2.add_artist(rect)"
   ]
  },
  {
   "cell_type": "code",
   "execution_count": null,
   "metadata": {},
   "outputs": [],
   "source": []
  }
 ],
 "metadata": {
  "kernelspec": {
   "display_name": "Python [conda env:nn]",
   "language": "python",
   "name": "conda-env-nn-py"
  },
  "language_info": {
   "codemirror_mode": {
    "name": "ipython",
    "version": 3
   },
   "file_extension": ".py",
   "mimetype": "text/x-python",
   "name": "python",
   "nbconvert_exporter": "python",
   "pygments_lexer": "ipython3",
   "version": "3.6.5"
  }
 },
 "nbformat": 4,
 "nbformat_minor": 2
}
